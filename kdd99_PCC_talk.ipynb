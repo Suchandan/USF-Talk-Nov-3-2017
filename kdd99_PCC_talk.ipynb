{
 "cells": [
  {
   "cell_type": "markdown",
   "metadata": {},
   "source": [
    "# Load Libraries"
   ]
  },
  {
   "cell_type": "code",
   "execution_count": 48,
   "metadata": {
    "collapsed": true
   },
   "outputs": [],
   "source": [
    "import itertools\n",
    "\n",
    "#Dataframe Libraries\n",
    "import pandas as pd\n",
    "import numpy as np\n",
    "\n",
    "#Plotting\n",
    "import seaborn as sns\n",
    "import matplotlib.pyplot as plt\n",
    "%matplotlib inline\n",
    "\n",
    "#Calculate confusion matrix\n",
    "from sklearn.metrics import confusion_matrix\n",
    "\n",
    "#Classes used for PCA\n",
    "from sklearn.decomposition import PCA\n",
    "from sklearn.preprocessing import StandardScaler\n",
    "\n",
    "#Isolation Forests\n",
    "from sklearn.ensemble import IsolationForest\n",
    "\n",
    "#Multiprocessing\n",
    "from concurrent.futures import ProcessPoolExecutor, as_completed"
   ]
  },
  {
   "cell_type": "markdown",
   "metadata": {},
   "source": [
    "# Specify Names of Columns"
   ]
  },
  {
   "cell_type": "code",
   "execution_count": 49,
   "metadata": {
    "collapsed": true
   },
   "outputs": [],
   "source": [
    "features = ['duration',\n",
    " 'protocol_type',\n",
    " 'service',\n",
    " 'flag',\n",
    " 'src_bytes',\n",
    " 'dst_bytes',\n",
    " 'land',\n",
    " 'wrong_fragment',\n",
    " 'urgent',\n",
    " 'hot',\n",
    " 'num_failed_logins',\n",
    " 'logged_in',\n",
    " 'num_compromised',\n",
    " 'root_shell',\n",
    " 'su_attempted',\n",
    " 'num_root',\n",
    " 'num_file_creations',\n",
    " 'num_shells',\n",
    " 'num_access_files',\n",
    " 'num_outbound_cmds',\n",
    " 'is_host_login',\n",
    " 'is_guest_login',\n",
    " 'count',\n",
    " 'srv_count',\n",
    " 'serror_rate',\n",
    " 'srv_serror_rate',\n",
    " 'rerror_rate',\n",
    " 'srv_rerror_rate',\n",
    " 'same_srv_rate',\n",
    " 'diff_srv_rate',\n",
    " 'srv_diff_host_rate',\n",
    " 'dst_host_count',\n",
    " 'dst_host_srv_count',\n",
    " 'dst_host_same_srv_rate',\n",
    " 'dst_host_diff_srv_rate',\n",
    " 'dst_host_same_src_port_rate',\n",
    " 'dst_host_srv_diff_host_rate',\n",
    " 'dst_host_serror_rate',\n",
    " 'dst_host_srv_serror_rate',\n",
    " 'dst_host_rerror_rate',\n",
    " 'dst_host_srv_rerror_rate']\n",
    "\n",
    "label = \"label\"\n",
    "string_features = ['land', 'service','protocol_type','flag']\n",
    "sumbolic_features = [\"protocol_type\", \"service\", \"flag\", \"land\", \"logged_in\", \"is_host_login\", \"is_guest_login\"]\n",
    "\n",
    "numeric_features = [col for col in features if col not in sumbolic_features]\n",
    "column_names = features + [label]"
   ]
  },
  {
   "cell_type": "code",
   "execution_count": 50,
   "metadata": {
    "collapsed": true
   },
   "outputs": [],
   "source": [
    "attack_types = {'dos': ['back', 'land', 'neptune', 'pod', 'smurf', 'teardrop'],\n",
    " 'probe': ['ipsweep', 'nmap', 'portsweep', 'satan'],\n",
    " 'r2l': ['ftp_write',\n",
    "  'guess_passwd',\n",
    "  'imap',\n",
    "  'multihop',\n",
    "  'phf',\n",
    "  'spy',\n",
    "  'warezclient',\n",
    "  'warezmaster'],\n",
    " 'u2r': ['buffer_overflow', 'loadmodule', 'perl', 'rootkit']}"
   ]
  },
  {
   "cell_type": "markdown",
   "metadata": {},
   "source": [
    "# Misc Functions"
   ]
  },
  {
   "cell_type": "code",
   "execution_count": 51,
   "metadata": {},
   "outputs": [],
   "source": [
    "def plot_confusion_matrix(cm, classes,\n",
    "                          normalize=False,\n",
    "                          title='Confusion matrix',\n",
    "                          cmap=plt.cm.Blues):\n",
    "    \"\"\"\n",
    "    This function prints and plots the confusion matrix.\n",
    "    Normalization can be applied by setting `normalize=True`.\n",
    "    \"\"\"\n",
    "    if normalize:\n",
    "        cm = cm.astype('float') / cm.sum(axis=1)[:, np.newaxis]\n",
    "        print(\"Normalized confusion matrix\")\n",
    "    else:\n",
    "        print('Confusion matrix, without normalization')\n",
    "    print(cm)\n",
    "\n",
    "    plt.imshow(cm, interpolation='nearest', cmap=cmap)\n",
    "    plt.title(title)\n",
    "    plt.colorbar()\n",
    "    tick_marks = np.arange(len(classes))\n",
    "    plt.xticks(tick_marks, classes, rotation=45)\n",
    "    plt.yticks(tick_marks, classes)\n",
    "\n",
    "    fmt = '.2f' if normalize else 'd'\n",
    "    thresh = cm.max() / 2.\n",
    "    for i, j in itertools.product(range(cm.shape[0]), range(cm.shape[1])):\n",
    "        plt.text(j, i, format(cm[i, j], fmt),\n",
    "                 horizontalalignment=\"center\",\n",
    "                 color=\"white\" if cm[i, j] > thresh else \"black\")\n",
    "\n",
    "    plt.tight_layout()\n",
    "    plt.ylabel('True label')\n",
    "    plt.xlabel('Predicted label')"
   ]
  },
  {
   "cell_type": "markdown",
   "metadata": {},
   "source": [
    "# Read Data"
   ]
  },
  {
   "cell_type": "code",
   "execution_count": 52,
   "metadata": {
    "collapsed": true
   },
   "outputs": [],
   "source": [
    "df_full = pd.read_csv(\"./kddcup.data.gz\", header=None, names=column_names)\n",
    "df_full[\"label\"] = df_full.label.apply(lambda z: str(z).strip(\".\"))"
   ]
  },
  {
   "cell_type": "markdown",
   "metadata": {},
   "source": [
    "# Isolation Forest Classifier"
   ]
  },
  {
   "cell_type": "markdown",
   "metadata": {},
   "source": [
    "![alt text](http://scikit-learn.org/stable/_images/sphx_glr_plot_isolation_forest_001.png \"Isolation Forests\")\n",
    "\n",
    "You can think of [Isolation Forests](http://scikit-learn.org/stable/modules/outlier_detection.html#isolation-forest) as the unsupervised analogue of [Random Forests](https://en.wikipedia.org/wiki/Random_forest).\n",
    "\n",
    "We'll use a simple Isolation Forests model to detect anomalies in the KDD-99 dataset just to convince us that detecting anomolies in this dataset is nontrivial.\n",
    "\n",
    "Liu, Fei Tony, Ting, Kai Ming and Zhou, Zhi-Hua. “Isolation forest.” Data Mining, 2008. ICDM‘08. Eighth IEEE International Conference on."
   ]
  },
  {
   "cell_type": "markdown",
   "metadata": {},
   "source": [
    "### Train Data for Isolation Forest Classifier"
   ]
  },
  {
   "cell_type": "code",
   "execution_count": 53,
   "metadata": {
    "collapsed": true
   },
   "outputs": [],
   "source": [
    "ATTACK_FRACTION = .01\n",
    "NORMAL_DATA_SIZE = 10**5\n",
    "\n",
    "def get_train_data(df):\n",
    "\n",
    "    X = df[df.label == 'normal'].sample(NORMAL_DATA_SIZE)\n",
    "    Y = df[df.label != 'normal'].sample(int(NORMAL_DATA_SIZE*ATTACK_FRACTION))\n",
    "\n",
    "    train_data = pd.concat([X,Y], ignore_index=True)\n",
    "    return train_data"
   ]
  },
  {
   "cell_type": "markdown",
   "metadata": {},
   "source": [
    "### Model for Isolation Forest Classifier"
   ]
  },
  {
   "cell_type": "code",
   "execution_count": 54,
   "metadata": {
    "scrolled": true
   },
   "outputs": [
    {
     "data": {
      "text/plain": [
       "IsolationForest(bootstrap=False, contamination=0.01, max_features=8,\n",
       "        max_samples='auto', n_estimators=1024, n_jobs=8, random_state=None,\n",
       "        verbose=0)"
      ]
     },
     "execution_count": 54,
     "metadata": {},
     "output_type": "execute_result"
    }
   ],
   "source": [
    "model = IsolationForest(n_jobs=8, contamination=ATTACK_FRACTION, max_features=8, n_estimators=1024)\n",
    "\n",
    "#Define train data\n",
    "train_data = get_train_data(df_full)\n",
    "\n",
    "#Fit model\n",
    "model.fit(train_data[numeric_features])"
   ]
  },
  {
   "cell_type": "markdown",
   "metadata": {},
   "source": [
    "### Compute confusion matrix for Isolation Forest Classifier"
   ]
  },
  {
   "cell_type": "code",
   "execution_count": 55,
   "metadata": {
    "collapsed": true
   },
   "outputs": [],
   "source": [
    "def get_small_confusion_matrix(model, X):\n",
    "\n",
    "    results = model.predict(X[numeric_features])\n",
    "    results = (results == -1)\n",
    "\n",
    "    #Confusion matrix\n",
    "    conf_matrix = confusion_matrix((X.label != 'normal').values, results)\n",
    "    #print \"Returning matrix: \", conf_matrix\n",
    "    return conf_matrix\n",
    "\n",
    "def get_confusion_matrix(X):\n",
    "    \n",
    "    batch_size = 10**5\n",
    "    batches = np.array_split(X, len(X)/batch_size + 1)\n",
    "\n",
    "    processes = []\n",
    "    conf_matrix = np.array([[0,0], [0,0]])\n",
    "\n",
    "    with ProcessPoolExecutor(5) as executor:\n",
    "        \n",
    "        for batch in batches:\n",
    "            p = executor.submit(get_small_confusion_matrix, *(model, batch))\n",
    "            processes.append(p)\n",
    "\n",
    "        print \"Total number of processes: \", len(processes)\n",
    "        for i, future in enumerate(as_completed(processes)):\n",
    "\n",
    "            print \"Completed process %d of %d\"%(i, len(processes))\n",
    "            small_conf_matrix = future.result()\n",
    "            conf_matrix = conf_matrix + small_conf_matrix\n",
    "        \n",
    "    return conf_matrix"
   ]
  },
  {
   "cell_type": "code",
   "execution_count": 56,
   "metadata": {
    "scrolled": true
   },
   "outputs": [
    {
     "name": "stdout",
     "output_type": "stream",
     "text": [
      "Total number of processes:  11\n",
      "Completed process 0 of 11\n",
      "Completed process 1 of 11\n",
      "Completed process 2 of 11\n",
      "Completed process 3 of 11\n",
      "Completed process 4 of 11\n",
      "Completed process 5 of 11\n",
      "Completed process 6 of 11\n",
      "Completed process 7 of 11\n",
      "Completed process 8 of 11\n",
      "Completed process 9 of 11\n",
      "Completed process 10 of 11\n"
     ]
    }
   ],
   "source": [
    "conf_matrix = get_confusion_matrix(df_full[:10**6])"
   ]
  },
  {
   "cell_type": "code",
   "execution_count": 58,
   "metadata": {
    "scrolled": false
   },
   "outputs": [
    {
     "name": "stdout",
     "output_type": "stream",
     "text": [
      "Confusion matrix, without normalization\n",
      "[[651412  92793]\n",
      " [313999 214523]]\n"
     ]
    },
    {
     "data": {
      "image/png": "[encoded data removed]",
      "text/plain": [
       "<matplotlib.figure.Figure at 0x10c6db110>"
      ]
     },
     "metadata": {},
     "output_type": "display_data"
    }
   ],
   "source": [
    "plot_confusion_matrix(conf_matrix, classes=['Normal', 'Attack'])"
   ]
  },
  {
   "cell_type": "markdown",
   "metadata": {},
   "source": [
    "# The PCC Model"
   ]
  },
  {
   "cell_type": "markdown",
   "metadata": {},
   "source": [
    "We're following the paper below to build an anomaly detection classifier.\n",
    "\n",
    "A novel anomaly detection scheme based on principal component classifier In IEEE Foundations and New Directions of Data Mining Workshop, in conjunction with ICDM'03 (2003), pp. 171-179 by M-L Shyu, S-C Chen, K. Sarinnapakorn, L. Chang"
   ]
  },
  {
   "cell_type": "markdown",
   "metadata": {},
   "source": [
    "### Overview"
   ]
  },
  {
   "cell_type": "markdown",
   "metadata": {},
   "source": [
    "**Goal** To correctly label each connection as either \"normal\" or \"attack\".\n",
    "\n",
    "**Example Data**\n",
    "\n",
    "![alt text](https://upload.wikimedia.org/wikipedia/commons/thumb/f/f5/GaussianScatterPCA.svg/720px-GaussianScatterPCA.svg.png \"Sample Data\")\n",
    "\n",
    "** Approach 1: ** Find the center, and take call the elements far from the center \"anomolous\". Far is defined by some user-defined threshold."
   ]
  },
  {
   "cell_type": "markdown",
   "metadata": {},
   "source": [
    "** Approach 2: ** Do the same thing as \"Approach 1\", but in a different coordinate system. Note, one such coordinate system comes from PCA.\n",
    "\n",
    "**Recall** that *Principal Component Analysis* gives you a set of eigenvectors $e_1, \\cdots, e_p$ (example above). Suppose that $\\lambda_1, ... ,\\lambda_p$ are the corresponding eigenvalues.\n",
    "\n",
    "If $x$ is a datapoint, we can write it in terms of the basis of singular vectors:\n",
    "\n",
    "$$ x = y_1 \\cdot e_1  + y_2 \\cdot e_2 + \\cdots + y_p \\cdot e_p  $$\n",
    "\n",
    "Consider the distance function:\n",
    "\n",
    "$$d(x) = \\frac{y_1^2}{\\lambda_1} + \\frac{y_2^2}{\\lambda_2} + \\cdots + \\frac{y_p^2}{\\lambda_p}$$ "
   ]
  },
  {
   "cell_type": "markdown",
   "metadata": {},
   "source": [
    "### Define the model"
   ]
  },
  {
   "cell_type": "code",
   "execution_count": 59,
   "metadata": {
    "collapsed": true,
    "scrolled": true
   },
   "outputs": [],
   "source": [
    "pca = PCA()"
   ]
  },
  {
   "cell_type": "markdown",
   "metadata": {},
   "source": [
    "### Fit PCA with 5K normal instances"
   ]
  },
  {
   "cell_type": "code",
   "execution_count": 60,
   "metadata": {
    "scrolled": false
   },
   "outputs": [
    {
     "data": {
      "text/plain": [
       "PCA(copy=True, iterated_power='auto', n_components=None, random_state=None,\n",
       "  svd_solver='auto', tol=0.0, whiten=False)"
      ]
     },
     "execution_count": 60,
     "metadata": {},
     "output_type": "execute_result"
    }
   ],
   "source": [
    "#Make the training data\n",
    "training_data = df_full[df_full.label == 'normal'].sample(5000)\n",
    "\n",
    "standard_scalar = StandardScaler()\n",
    "centered_training_data = standard_scalar.fit_transform(training_data[numeric_features])\n",
    "\n",
    "#Fit PCA with the training data\n",
    "pca.fit(centered_training_data)"
   ]
  },
  {
   "cell_type": "markdown",
   "metadata": {},
   "source": [
    "### What goes into choosing a threshold for the distance"
   ]
  },
  {
   "cell_type": "code",
   "execution_count": 62,
   "metadata": {
    "scrolled": true
   },
   "outputs": [
    {
     "data": {
      "image/png": "[encoded data removed]",
      "text/plain": [
       "<matplotlib.figure.Figure at 0x12ae1bdd0>"
      ]
     },
     "metadata": {},
     "output_type": "display_data"
    }
   ],
   "source": [
    "lambdas = pca.singular_values_\n",
    "M = ((centered_training_data*centered_training_data)/lambdas)\n",
    "distances = np.sum(M, axis=1)\n",
    "\n",
    "_ = sns.distplot(distances, bins=500)"
   ]
  },
  {
   "cell_type": "markdown",
   "metadata": {},
   "source": [
    "### Fit model parameters"
   ]
  },
  {
   "cell_type": "markdown",
   "metadata": {},
   "source": [
    "#### Fit q\n",
    "\n",
    "The parameter $q$ is defined so that the first $q$ components should explain $\\sim50\\%$ of the variance."
   ]
  },
  {
   "cell_type": "code",
   "execution_count": 63,
   "metadata": {},
   "outputs": [
    {
     "name": "stdout",
     "output_type": "stream",
     "text": [
      "Explained variance by first q terms:  0.483628042286\n"
     ]
    }
   ],
   "source": [
    "#The first q components should explain ~50% of the variance\n",
    "q = 5\n",
    "\n",
    "print \"Explained variance by first q terms: \", sum(pca.explained_variance_ratio_[:q])"
   ]
  },
  {
   "cell_type": "markdown",
   "metadata": {},
   "source": [
    "#### Fit r\n",
    "\n",
    "The parameter $r$ is defined so that all subsequent singular values are less than or equal to $.2$"
   ]
  },
  {
   "cell_type": "code",
   "execution_count": 37,
   "metadata": {},
   "outputs": [],
   "source": [
    "singular_values = pca.singular_values_\n",
    "\n",
    "assert list(singular_values) == sorted(singular_values, reverse=True), \"Error! Array assumed sorted.\"\n",
    "q_values = list(pca.singular_values_ < .2)\n",
    "\n",
    "r = q_values.index(True)"
   ]
  },
  {
   "cell_type": "code",
   "execution_count": 38,
   "metadata": {},
   "outputs": [
    {
     "name": "stdout",
     "output_type": "stream",
     "text": [
      "q = 5, r = 29\n"
     ]
    }
   ],
   "source": [
    "print \"q = %d, r = %d\"%(q, r)"
   ]
  },
  {
   "cell_type": "markdown",
   "metadata": {},
   "source": [
    "### Compute Distance Function: \n",
    "\n",
    "The authors define the sum of the major components:\n",
    "\n",
    "$$major\\_components(x) = \\frac{y_1^2}{\\lambda_1} + \\frac{y_2^2}{\\lambda_2} + \\cdots + \\frac{y_q^2}{\\lambda_q}$$\n",
    "\n",
    "\n",
    "$$minor\\_components(x) = \\frac{y_{r}^2}{\\lambda_{r}} + \\frac{y_{r+1}^2}{\\lambda_{r+1}} + \\cdots + \\frac{y_q^2}{\\lambda_q}$$\n",
    "\n",
    "The function below computes both of these, as well as the $99^{\\textrm{th}}$ percentiles of these quantities."
   ]
  },
  {
   "cell_type": "code",
   "execution_count": 67,
   "metadata": {
    "collapsed": true
   },
   "outputs": [],
   "source": [
    "def get_components_and_quantiles(df, standard_scalar = standard_scalar):\n",
    "    \n",
    "    data = standard_scalar.transform(df[numeric_features])\n",
    "    transformed_data = pca.transform(data)\n",
    "    y = transformed_data\n",
    "    \n",
    "    lambdas = pca.singular_values_\n",
    "    M = ((y*y)/lambdas)\n",
    "    \n",
    "    major_components = M[:,range(q)]\n",
    "    minor_components = M[:,range(r, len(numeric_features))]\n",
    "    \n",
    "    major_components = np.sum(major_components, axis=1)\n",
    "    minor_components = np.sum(minor_components, axis=1)\n",
    "     \n",
    "    components = pd.DataFrame({'major_components': major_components, \n",
    "                               'minor_components': minor_components})\n",
    "    \n",
    "    print components.quantile(0.99)\n",
    "    \n",
    "    c1 = components.quantile(0.99)['major_components']\n",
    "    c2 = components.quantile(0.99)['minor_components']\n",
    "    \n",
    "    return major_components, minor_components, c1, c2"
   ]
  },
  {
   "cell_type": "markdown",
   "metadata": {},
   "source": [
    "### Set the parameters $c_1$ and $c_2$ from training data"
   ]
  },
  {
   "cell_type": "code",
   "execution_count": 68,
   "metadata": {
    "scrolled": true
   },
   "outputs": [
    {
     "name": "stdout",
     "output_type": "stream",
     "text": [
      "major_components    1.148393e+00\n",
      "minor_components    3.140320e-15\n",
      "Name: 0.99, dtype: float64\n"
     ]
    }
   ],
   "source": [
    "_, _ , c1, c2 = get_components_and_quantiles(training_data)"
   ]
  },
  {
   "cell_type": "markdown",
   "metadata": {},
   "source": [
    "### Calculate the major and minor components for full data"
   ]
  },
  {
   "cell_type": "code",
   "execution_count": 69,
   "metadata": {
    "scrolled": true
   },
   "outputs": [
    {
     "name": "stdout",
     "output_type": "stream",
     "text": [
      "major_components    5.660635e+01\n",
      "minor_components    2.878642e-13\n",
      "Name: 0.99, dtype: float64\n"
     ]
    }
   ],
   "source": [
    "major_components, minor_components, _, _  = get_components_and_quantiles(df_full)"
   ]
  },
  {
   "cell_type": "markdown",
   "metadata": {},
   "source": [
    "### Define the classifier"
   ]
  },
  {
   "cell_type": "code",
   "execution_count": 70,
   "metadata": {
    "collapsed": true
   },
   "outputs": [],
   "source": [
    "def classifier(major_components, minor_components):\n",
    "    \n",
    "    major = major_components > c1\n",
    "    minor = minor_components > c2\n",
    "    \n",
    "    return np.logical_or(major,minor)"
   ]
  },
  {
   "cell_type": "markdown",
   "metadata": {},
   "source": [
    "### Predict on the full dataset"
   ]
  },
  {
   "cell_type": "code",
   "execution_count": 71,
   "metadata": {},
   "outputs": [],
   "source": [
    "results = classifier(major_components=major_components, minor_components=minor_components)"
   ]
  },
  {
   "cell_type": "markdown",
   "metadata": {},
   "source": [
    "### Plot the confusion matrix"
   ]
  },
  {
   "cell_type": "code",
   "execution_count": 72,
   "metadata": {
    "scrolled": false
   },
   "outputs": [
    {
     "name": "stdout",
     "output_type": "stream",
     "text": [
      "Confusion matrix, without normalization\n",
      "[[ 957968   14813]\n",
      " [  25684 3899966]]\n"
     ]
    },
    {
     "data": {
      "image/png": "[encoded data removed]",
      "text/plain": [
       "<matplotlib.figure.Figure at 0x12959c910>"
      ]
     },
     "metadata": {},
     "output_type": "display_data"
    }
   ],
   "source": [
    "conf_matrix = confusion_matrix((df_full['label'] != 'normal').values, results)\n",
    "tn, fp, fn, tp = conf_matrix.ravel()\n",
    "\n",
    "plot_confusion_matrix(conf_matrix, classes=['Normal', 'Attack'])"
   ]
  },
  {
   "cell_type": "markdown",
   "metadata": {},
   "source": [
    "### Basic Results"
   ]
  },
  {
   "cell_type": "code",
   "execution_count": 73,
   "metadata": {},
   "outputs": [
    {
     "name": "stdout",
     "output_type": "stream",
     "text": [
      "False positive rate:  0.015227476688\n",
      "Precision TP/(TP + FP):  0.996216133784\n",
      "Recall: TP/(TP + FN) 0.993457389222\n"
     ]
    }
   ],
   "source": [
    "print \"False positive rate: \", fp/float(fp + tn)\n",
    "print \"Precision TP/(TP + FP): \", tp/float(tp + fp)\n",
    "print \"Recall: TP/(TP + FN)\", tp/float(tp + fn)"
   ]
  },
  {
   "cell_type": "markdown",
   "metadata": {},
   "source": [
    "# Further Directions"
   ]
  },
  {
   "cell_type": "markdown",
   "metadata": {},
   "source": [
    "## Spark \n",
    "\n",
    "![alt text](https://covers.oreillystatic.com/images/0636920056591/lrg.jpg \"Spark\")\n",
    "\n",
    "Chapter 5 builds a classifier for the KDD 99 dataset in Spark."
   ]
  },
  {
   "cell_type": "code",
   "execution_count": null,
   "metadata": {
    "collapsed": true
   },
   "outputs": [],
   "source": []
  }
 ],
 "metadata": {
  "kernelspec": {
   "display_name": "Python 2",
   "language": "python",
   "name": "python2"
  },
  "language_info": {
   "codemirror_mode": {
    "name": "ipython",
    "version": 2
   },
   "file_extension": ".py",
   "mimetype": "text/x-python",
   "name": "python",
   "nbconvert_exporter": "python",
   "pygments_lexer": "ipython2",
   "version": "2.7.13"
  }
 },
 "nbformat": 4,
 "nbformat_minor": 2
}
